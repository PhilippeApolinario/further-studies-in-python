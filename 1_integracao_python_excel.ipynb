{
 "cells": [
  {
   "cell_type": "markdown",
   "id": "9acbc885",
   "metadata": {},
   "source": [
    "# Integração Python com Excel: Pandas e Openpyxl\n",
    "\n",
    "A integração entre Python e Excel é uma funcionalidade essencial para muitos profissionais e entusiastas de dados. Duas das principais bibliotecas utilizadas para esse propósito são o **Pandas** e o **Openpyxl**. Cada uma dessas bibliotecas possui suas peculiaridades e utilizações específicas, atendendo a diferentes necessidades dos usuários.\n",
    "\n",
    "## Pandas\n",
    "\n",
    "O **Pandas** é, sem dúvida, a forma mais amplamente utilizada para a integração Python com o Excel. Essa biblioteca é conhecida por tratar o Excel como uma base de dados, proporcionando uma série de funcionalidades poderosas. Com o **Pandas**, é possível realizar diversas operações no arquivo Excel, como leitura, escrita, manipulação de dados e muito mais. Ele torna a interação com o Excel extremamente flexível, permitindo ao usuário explorar as informações e realizar análises complexas.\n",
    "\n",
    "Uma das principais vantagens do **Pandas** é a capacidade de desfazer a estrutura original do arquivo, caso seja necessário editar ou transformar os dados de forma significativa. Isso possibilita a limpeza e a preparação dos dados para análise, o que é fundamental em projetos de ciência de dados e outras atividades que envolvam informações complexas.\n",
    "\n",
    "## Openpyxl\n",
    "\n",
    "Por outro lado, temos o **Openpyxl**, que se destaca por tratar o Excel como uma planilha em sua forma mais tradicional. Com essa biblioteca, é possível editar o arquivo \"como se fosse um VBA\" (Visual Basic for Applications), o que atrai os usuários familiarizados com essa linguagem de programação. O **Openpyxl** é especialmente útil para quem deseja trabalhar com planilhas complexas, contendo várias abas e formatos específicos.\n",
    "\n",
    "Apesar de suas vantagens, é importante observar que o **Openpyxl** pode ser menos eficiente em comparação ao Pandas em algumas situações. Além disso, embora ele preserve mais a estrutura original do arquivo Excel, é preciso ter cautela, pois nem sempre todos os detalhes são mantidos. Portanto, é recomendado realizar testes e verificações para garantir a integridade dos dados durante o processo de manipulação.\n",
    "\n",
    "Em resumo, tanto o **Pandas** quanto o **Openpyxl** são ferramentas valiosas para a integração entre Python e Excel, cada uma com suas particularidades e usos específicos. A escolha da biblioteca mais adequada dependerá das necessidades e objetivos do projeto em questão. Ambas são poderosas e oferecem uma ampla gama de recursos, tornando a tarefa de trabalhar com dados do Excel muito mais eficiente e produtiva."
   ]
  },
  {
   "cell_type": "markdown",
   "id": "1da7f8d8",
   "metadata": {},
   "source": [
    "### Exercício\n",
    "\n",
    "Como o aumento do imposto sobre os serviços, com um novo multiplicador de 1.2, afetará os preços dos produtos e serviços na planilha? \n",
    "Quais produtos serão impactados por essa mudança e como podemos atualizar os preços para refletir o aumento do imposto?"
   ]
  },
  {
   "cell_type": "code",
   "execution_count": 3,
   "id": "79673b94",
   "metadata": {
    "scrolled": true
   },
   "outputs": [
    {
     "data": {
      "text/html": [
       "<div>\n",
       "<style scoped>\n",
       "    .dataframe tbody tr th:only-of-type {\n",
       "        vertical-align: middle;\n",
       "    }\n",
       "\n",
       "    .dataframe tbody tr th {\n",
       "        vertical-align: top;\n",
       "    }\n",
       "\n",
       "    .dataframe thead th {\n",
       "        text-align: right;\n",
       "    }\n",
       "</style>\n",
       "<table border=\"1\" class=\"dataframe\">\n",
       "  <thead>\n",
       "    <tr style=\"text-align: right;\">\n",
       "      <th></th>\n",
       "      <th>Produtos</th>\n",
       "      <th>Preço Líquido</th>\n",
       "      <th>Tipo</th>\n",
       "      <th>Imposto</th>\n",
       "      <th>Preço Bruto</th>\n",
       "    </tr>\n",
       "  </thead>\n",
       "  <tbody>\n",
       "    <tr>\n",
       "      <th>0</th>\n",
       "      <td>TV</td>\n",
       "      <td>1600</td>\n",
       "      <td>Produto</td>\n",
       "      <td>1.1</td>\n",
       "      <td>1760.0</td>\n",
       "    </tr>\n",
       "    <tr>\n",
       "      <th>1</th>\n",
       "      <td>MBA</td>\n",
       "      <td>5000</td>\n",
       "      <td>Serviço</td>\n",
       "      <td>1.3</td>\n",
       "      <td>6500.0</td>\n",
       "    </tr>\n",
       "    <tr>\n",
       "      <th>2</th>\n",
       "      <td>Notebook</td>\n",
       "      <td>2800</td>\n",
       "      <td>Produto</td>\n",
       "      <td>1.1</td>\n",
       "      <td>3080.0</td>\n",
       "    </tr>\n",
       "    <tr>\n",
       "      <th>3</th>\n",
       "      <td>Exames laboratorias</td>\n",
       "      <td>500</td>\n",
       "      <td>Serviço</td>\n",
       "      <td>1.3</td>\n",
       "      <td>650.0</td>\n",
       "    </tr>\n",
       "    <tr>\n",
       "      <th>4</th>\n",
       "      <td>AirFryer</td>\n",
       "      <td>450</td>\n",
       "      <td>Produto</td>\n",
       "      <td>1.1</td>\n",
       "      <td>495.0</td>\n",
       "    </tr>\n",
       "    <tr>\n",
       "      <th>5</th>\n",
       "      <td>Eletricista</td>\n",
       "      <td>250</td>\n",
       "      <td>Serviço</td>\n",
       "      <td>1.3</td>\n",
       "      <td>325.0</td>\n",
       "    </tr>\n",
       "    <tr>\n",
       "      <th>6</th>\n",
       "      <td>Curso de Idiomas</td>\n",
       "      <td>200</td>\n",
       "      <td>Serviço</td>\n",
       "      <td>1.3</td>\n",
       "      <td>260.0</td>\n",
       "    </tr>\n",
       "  </tbody>\n",
       "</table>\n",
       "</div>"
      ],
      "text/plain": [
       "              Produtos  Preço Líquido     Tipo  Imposto  Preço Bruto\n",
       "0                   TV           1600  Produto      1.1       1760.0\n",
       "1                  MBA           5000  Serviço      1.3       6500.0\n",
       "2             Notebook           2800  Produto      1.1       3080.0\n",
       "3  Exames laboratorias            500  Serviço      1.3        650.0\n",
       "4             AirFryer            450  Produto      1.1        495.0\n",
       "5          Eletricista            250  Serviço      1.3        325.0\n",
       "6     Curso de Idiomas            200  Serviço      1.3        260.0"
      ]
     },
     "execution_count": 3,
     "metadata": {},
     "output_type": "execute_result"
    }
   ],
   "source": [
    "# Pandas\n",
    "import pandas as pd\n",
    "\n",
    "tbl = pd.read_excel(\"Produtos.xlsx\")\n",
    "tbl"
   ]
  },
  {
   "cell_type": "code",
   "execution_count": 5,
   "id": "a14e0b4c",
   "metadata": {},
   "outputs": [],
   "source": [
    "# Modificando o Imposto\n",
    "tbl.loc[tbl[\"Tipo\"]==\"Serviço\", \"Imposto\"] = 1.2\n",
    "\n",
    "# Calculando o Preço Bruto, pois a fórmula foi ignorada pelo pandas\n",
    "tbl[\"Preço Líquido\"] = tbl[\"Imposto\"] * tbl[\"Preço Bruto\"]\n",
    "\n",
    "# Criando um novo arquivo xlsx\n",
    "tbl.to_excel(\"ProdutosPandas.xlsx\", index=False)"
   ]
  },
  {
   "cell_type": "code",
   "execution_count": 9,
   "id": "72efa318",
   "metadata": {},
   "outputs": [],
   "source": [
    "# Openpyxl\n",
    "from openpyxl import Workbook, load_workbook\n",
    "\n",
    "tbl = load_workbook(\"Produtos.xlsx\")\n",
    "\n",
    "aba_ativa = tbl.active\n",
    "\n",
    "for celula in aba_ativa[\"C\"]:\n",
    "    if celula.value == \"Serviço\":\n",
    "        linha = celula.row\n",
    "        aba_ativa[f\"D{linha}\"] = 1.2\n",
    "        \n",
    "# Novo arquivo xlsx\n",
    "tbl.save(\"ProdutosOpenPy.xlsx\")"
   ]
  }
 ],
 "metadata": {
  "kernelspec": {
   "display_name": "Python 3 (ipykernel)",
   "language": "python",
   "name": "python3"
  },
  "language_info": {
   "codemirror_mode": {
    "name": "ipython",
    "version": 3
   },
   "file_extension": ".py",
   "mimetype": "text/x-python",
   "name": "python",
   "nbconvert_exporter": "python",
   "pygments_lexer": "ipython3",
   "version": "3.10.9"
  }
 },
 "nbformat": 4,
 "nbformat_minor": 5
}
